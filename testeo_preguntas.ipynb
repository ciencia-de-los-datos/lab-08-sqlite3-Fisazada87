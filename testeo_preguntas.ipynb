{
 "cells": [
  {
   "cell_type": "markdown",
   "metadata": {},
   "source": [
    "*** IMPORTE LIBRERIAS***"
   ]
  },
  {
   "cell_type": "code",
   "execution_count": 7,
   "metadata": {},
   "outputs": [
    {
     "data": {
      "text/plain": [
       "<sqlite3.Cursor at 0x204c2c3b440>"
      ]
     },
     "execution_count": 7,
     "metadata": {},
     "output_type": "execute_result"
    }
   ],
   "source": [
    "import pandas as pd\n",
    "import sqlite3\n",
    "\n",
    "conn= sqlite3.connect(\":memory:\")\n",
    "cur= conn.cursor()\n",
    "\n",
    "with open(\"create_tables.sql\", encoding =\"utf-8\") as file:\n",
    "    cur.executescript(file.read())\n",
    "\n",
    "cur"
   ]
  },
  {
   "cell_type": "markdown",
   "metadata": {},
   "source": [
    "*** TESTEO DE CADA PREGUNTA***"
   ]
  },
  {
   "cell_type": "code",
   "execution_count": 9,
   "metadata": {},
   "outputs": [
    {
     "data": {
      "text/plain": [
       "{'SUM(c12)': {0: 15137.63}}"
      ]
     },
     "execution_count": 9,
     "metadata": {},
     "output_type": "execute_result"
    }
   ],
   "source": [
    "# pregunta 1\n",
    "with open(\"pregunta_01.sql\", encoding=\"utf-8\") as file:\n",
    "    query = file.read()\n",
    "\n",
    "pd.read_sql_query(query, conn).to_dict()\n"
   ]
  },
  {
   "cell_type": "code",
   "execution_count": 10,
   "metadata": {},
   "outputs": [
    {
     "data": {
      "text/plain": [
       "{'COUNT(*)': {0: 30}}"
      ]
     },
     "execution_count": 10,
     "metadata": {},
     "output_type": "execute_result"
    }
   ],
   "source": [
    "# pregunta 2\n",
    "with open(\"pregunta_02.sql\", encoding=\"utf-8\") as file:\n",
    "    query = file.read()\n",
    "\n",
    "pd.read_sql_query(query, conn).to_dict()"
   ]
  },
  {
   "cell_type": "code",
   "execution_count": 11,
   "metadata": {},
   "outputs": [
    {
     "data": {
      "text/plain": [
       "{'K0': {0: 'A', 1: 'C', 2: 'E', 3: 'B', 4: 'E'},\n",
       " 'K1': {0: 20, 1: 15, 2: 22, 3: 12, 4: 14},\n",
       " 'c12': {0: 938.16, 1: 370.58, 2: 118.77, 3: 999.72, 4: 832.44},\n",
       " 'c13': {0: 300, 1: 900, 2: 900, 3: 800, 4: 800},\n",
       " 'c14': {0: '2016-09-12',\n",
       "  1: '2016-10-01',\n",
       "  2: '2016-10-29',\n",
       "  3: '2016-11-09',\n",
       "  4: '2016-11-22'},\n",
       " 'c15': {0: 0.19, 1: 0.11, 2: 0.32, 3: 0.26, 4: 0.39},\n",
       " 'c16': {0: 'BECB', 1: 'GCDD', 2: 'GEFE', 3: 'FCGD', 4: 'EGFD'}}"
      ]
     },
     "execution_count": 11,
     "metadata": {},
     "output_type": "execute_result"
    }
   ],
   "source": [
    "# pregunta 3\n",
    "with open(\"pregunta_03.sql\", encoding=\"utf-8\") as file:\n",
    "    query = file.read()\n",
    "\n",
    "pd.read_sql_query(query, conn).to_dict()"
   ]
  },
  {
   "cell_type": "code",
   "execution_count": 14,
   "metadata": {},
   "outputs": [
    {
     "data": {
      "text/plain": [
       "{'K0': {0: 'E', 1: 'B', 2: 'C'}, 'c16': {0: 'EGFD', 1: 'BDEE', 2: 'CCCE'}}"
      ]
     },
     "execution_count": 14,
     "metadata": {},
     "output_type": "execute_result"
    }
   ],
   "source": [
    "# pregunta 4\n",
    "with open(\"pregunta_04.sql\", encoding=\"utf-8\") as file:\n",
    "    query = file.read()\n",
    "\n",
    "pd.read_sql_query(query, conn).to_dict()"
   ]
  },
  {
   "cell_type": "code",
   "execution_count": 15,
   "metadata": {},
   "outputs": [
    {
     "data": {
      "text/plain": [
       "{'K0': {0: 'B', 1: 'C', 2: 'D', 3: 'G'},\n",
       " 'c01': {0: 7000, 1: 1000, 2: 4000, 3: 5000},\n",
       " 'c02': {0: 100, 1: 600, 2: 600, 3: 100},\n",
       " 'c03': {0: 'OLPKN', 1: 'LMMML', 2: 'PJLJL', 3: 'NLPLO'},\n",
       " 'c04': {0: 0.2, 1: 0.2, 2: 0.4, 3: 0.2}}"
      ]
     },
     "execution_count": 15,
     "metadata": {},
     "output_type": "execute_result"
    }
   ],
   "source": [
    "# pregunta 5\n",
    "with open(\"pregunta_05.sql\", encoding=\"utf-8\") as file:\n",
    "    query = file.read()\n",
    "\n",
    "pd.read_sql_query(query, conn).to_dict()"
   ]
  },
  {
   "cell_type": "code",
   "execution_count": 18,
   "metadata": {},
   "outputs": [
    {
     "data": {
      "text/plain": [
       "{'K0': {0: 'A', 1: 'A', 2: 'A', 3: 'A', 4: 'A', 5: 'A'},\n",
       " 'K1': {0: 20, 1: 30, 2: 18, 3: 26, 4: 6, 5: 10},\n",
       " 'c12': {0: 938.16, 1: 135.8, 2: 142.99, 3: 456.47, 4: 391.42, 5: 816.51},\n",
       " 'c13': {0: 300, 1: 900, 2: 100, 3: 400, 4: 300, 5: 600},\n",
       " 'c14': {0: '2016-09-12',\n",
       "  1: '2017-01-26',\n",
       "  2: '2017-02-12',\n",
       "  3: '2018-01-28',\n",
       "  4: '2018-05-15',\n",
       "  5: '2019-04-25'},\n",
       " 'c15': {0: 0.19, 1: 0.23, 2: 0.48, 3: 0.11, 4: 0.22, 5: 0.4},\n",
       " 'c16': {0: 'BECB', 1: 'EGAB', 2: 'GGFD', 3: 'FGED', 4: 'BFGB', 5: 'DAGC'}}"
      ]
     },
     "execution_count": 18,
     "metadata": {},
     "output_type": "execute_result"
    }
   ],
   "source": [
    "# pregunta 6\n",
    "with open(\"pregunta_06.sql\", encoding=\"utf-8\") as file:\n",
    "    query = file.read()\n",
    "\n",
    "pd.read_sql_query(query, conn).to_dict()"
   ]
  },
  {
   "cell_type": "code",
   "execution_count": 19,
   "metadata": {},
   "outputs": [
    {
     "data": {
      "text/plain": [
       "{'K0': {0: 'E',\n",
       "  1: 'E',\n",
       "  2: 'E',\n",
       "  3: 'E',\n",
       "  4: 'D',\n",
       "  5: 'E',\n",
       "  6: 'C',\n",
       "  7: 'C',\n",
       "  8: 'C',\n",
       "  9: 'E',\n",
       "  10: 'D',\n",
       "  11: 'C',\n",
       "  12: 'C'},\n",
       " 'K1': {0: 14,\n",
       "  1: 8,\n",
       "  2: 1,\n",
       "  3: 27,\n",
       "  4: 4,\n",
       "  5: 3,\n",
       "  6: 13,\n",
       "  7: 5,\n",
       "  8: 7,\n",
       "  9: 25,\n",
       "  10: 2,\n",
       "  11: 19,\n",
       "  12: 24},\n",
       " 'c12': {0: 832.44,\n",
       "  1: 302.86,\n",
       "  2: 273.08,\n",
       "  3: 720.9,\n",
       "  4: 662.69,\n",
       "  5: 305.43,\n",
       "  6: 712.61,\n",
       "  7: 822.81,\n",
       "  8: 755.27,\n",
       "  9: 600.9,\n",
       "  10: 756.37,\n",
       "  11: 570.43,\n",
       "  12: 482.32},\n",
       " 'c13': {0: 800,\n",
       "  1: 700,\n",
       "  2: 600,\n",
       "  3: 800,\n",
       "  4: 800,\n",
       "  5: 100,\n",
       "  6: 400,\n",
       "  7: 100,\n",
       "  8: 800,\n",
       "  9: 700,\n",
       "  10: 500,\n",
       "  11: 400,\n",
       "  12: 300},\n",
       " 'c14': {0: '2016-11-22',\n",
       "  1: '2016-12-22',\n",
       "  2: '2016-12-31',\n",
       "  3: '2017-01-16',\n",
       "  4: '2017-03-26',\n",
       "  5: '2017-05-21',\n",
       "  6: '2017-10-23',\n",
       "  7: '2017-11-17',\n",
       "  8: '2018-07-04',\n",
       "  9: '2018-11-07',\n",
       "  10: '2019-02-28',\n",
       "  11: '2019-04-12',\n",
       "  12: '2019-05-03'},\n",
       " 'c15': {0: 0.39,\n",
       "  1: 0.14,\n",
       "  2: 0.21,\n",
       "  3: 0.12,\n",
       "  4: 0.23,\n",
       "  5: 0.21,\n",
       "  6: 0.31,\n",
       "  7: 0.35,\n",
       "  8: 0.47,\n",
       "  9: 0.36,\n",
       "  10: 0.37,\n",
       "  11: 0.48,\n",
       "  12: 0.11},\n",
       " 'c16': {0: 'EGFD',\n",
       "  1: 'DFCC',\n",
       "  2: 'BDGD',\n",
       "  3: 'FBGD',\n",
       "  4: 'BGDD',\n",
       "  5: 'BAED',\n",
       "  6: 'EDDA',\n",
       "  7: 'GGFC',\n",
       "  8: 'GCDB',\n",
       "  9: 'BBBA',\n",
       "  10: 'BCCC',\n",
       "  11: 'FBEE',\n",
       "  12: 'CCCE'}}"
      ]
     },
     "execution_count": 19,
     "metadata": {},
     "output_type": "execute_result"
    }
   ],
   "source": [
    "# pregunta 7\n",
    "with open(\"pregunta_07.sql\", encoding=\"utf-8\") as file:\n",
    "    query = file.read()\n",
    "\n",
    "pd.read_sql_query(query, conn).to_dict()"
   ]
  },
  {
   "cell_type": "code",
   "execution_count": 41,
   "metadata": {},
   "outputs": [
    {
     "data": {
      "text/plain": [
       "{\"strftime('%Y', c23)\": {0: '2016', 1: '2017', 2: '2018', 3: '2019'},\n",
       " 'avg(c21)': {0: 564.4764285714285,\n",
       "  1: 515.1563636363636,\n",
       "  2: 557.5593749999999,\n",
       "  3: 550.9985714285714}}"
      ]
     },
     "execution_count": 41,
     "metadata": {},
     "output_type": "execute_result"
    }
   ],
   "source": [
    "# pregunta 8\n",
    "with open(\"pregunta_08.sql\", encoding=\"utf-8\") as file:\n",
    "    query = file.read()\n",
    "\n",
    "pd.read_sql_query(query, conn).to_dict()"
   ]
  },
  {
   "cell_type": "code",
   "execution_count": 25,
   "metadata": {},
   "outputs": [
    {
     "data": {
      "text/plain": [
       "{'K1': {0: 29},\n",
       " 'c21': {0: 101.11},\n",
       " 'c22': {0: 100},\n",
       " 'c23': {0: '2017-11-17'},\n",
       " 'c24': {0: 0.42},\n",
       " 'c25': {0: 'MV-CB'}}"
      ]
     },
     "execution_count": 25,
     "metadata": {},
     "output_type": "execute_result"
    }
   ],
   "source": [
    "# pregunta 9\n",
    "with open(\"pregunta_09.sql\", encoding=\"utf-8\") as file:\n",
    "    query = file.read()\n",
    "\n",
    "pd.read_sql_query(query, conn).to_dict()"
   ]
  },
  {
   "cell_type": "code",
   "execution_count": 29,
   "metadata": {},
   "outputs": [
    {
     "data": {
      "text/plain": [
       "{'K0': {0: 'A', 1: 'C', 2: 'D', 3: 'F', 4: 'I'},\n",
       " 'c01': {0: 5000, 1: 1000, 2: 4000, 3: 2000, 4: 3000},\n",
       " 'c02': {0: 900, 1: 600, 2: 600, 3: 300, 4: 300},\n",
       " 'c03': {0: 'NMNJL', 1: 'LMMML', 2: 'PJLJL', 3: 'NNPJO', 4: 'PPPPL'},\n",
       " 'c04': {0: 0.4, 1: 0.2, 2: 0.4, 3: 0.3, 4: 0.3}}"
      ]
     },
     "execution_count": 29,
     "metadata": {},
     "output_type": "execute_result"
    }
   ],
   "source": [
    "# pregunta 10\n",
    "with open(\"pregunta_10.sql\", encoding=\"utf-8\") as file:\n",
    "    query = file.read()\n",
    "\n",
    "pd.read_sql_query(query, conn).to_dict()"
   ]
  },
  {
   "cell_type": "code",
   "execution_count": 36,
   "metadata": {},
   "outputs": [
    {
     "data": {
      "text/plain": [
       "{'COUNT(*)': {0: 6}}"
      ]
     },
     "execution_count": 36,
     "metadata": {},
     "output_type": "execute_result"
    }
   ],
   "source": [
    "# pregunta 11\n",
    "with open(\"pregunta_11.sql\", encoding=\"utf-8\") as file:\n",
    "    query = file.read()\n",
    "\n",
    "pd.read_sql_query(query, conn).to_dict()"
   ]
  },
  {
   "cell_type": "code",
   "execution_count": 33,
   "metadata": {},
   "outputs": [
    {
     "data": {
      "text/plain": [
       "{'K0': {0: 'A', 1: 'B', 2: 'C', 3: 'D', 4: 'E'},\n",
       " 'MAX(c12)': {0: 938.16, 1: 999.72, 2: 822.81, 3: 756.37, 4: 832.44},\n",
       " 'MIN (c12)': {0: 135.8, 1: 283.4, 2: 267.42, 3: 317.77, 4: 118.77}}"
      ]
     },
     "execution_count": 33,
     "metadata": {},
     "output_type": "execute_result"
    }
   ],
   "source": [
    "# pregunta 12\n",
    "with open(\"pregunta_12.sql\", encoding=\"utf-8\") as file:\n",
    "    query = file.read()\n",
    "\n",
    "pd.read_sql_query(query, conn).to_dict()"
   ]
  },
  {
   "cell_type": "code",
   "execution_count": 34,
   "metadata": {},
   "outputs": [
    {
     "data": {
      "text/plain": [
       "{'K0': {0: 'A', 1: 'B', 2: 'C', 3: 'D', 4: 'E'},\n",
       " 'avg(c12)': {0: 476.155,\n",
       "  1: 536.5233333333333,\n",
       "  2: 490.83,\n",
       "  3: 709.53,\n",
       "  4: 474.825}}"
      ]
     },
     "execution_count": 34,
     "metadata": {},
     "output_type": "execute_result"
    }
   ],
   "source": [
    "# pregunta 13\n",
    "with open(\"pregunta_13.sql\", encoding=\"utf-8\") as file:\n",
    "    query = file.read()\n",
    "\n",
    "pd.read_sql_query(query, conn).to_dict()"
   ]
  },
  {
   "cell_type": "code",
   "execution_count": 42,
   "metadata": {},
   "outputs": [
    {
     "data": {
      "text/plain": [
       "{'K0': {0: 'A', 1: 'B', 2: 'C', 3: 'D', 4: 'E'},\n",
       " 'avg (c21)': {0: 593.495,\n",
       "  1: 575.47,\n",
       "  2: 530.7529999999999,\n",
       "  3: 655.6125,\n",
       "  4: 555.3230769230769}}"
      ]
     },
     "execution_count": 42,
     "metadata": {},
     "output_type": "execute_result"
    }
   ],
   "source": [
    "# pregunta 14\n",
    "with open(\"pregunta_14.sql\", encoding=\"utf-8\") as file:\n",
    "    query = file.read()\n",
    "\n",
    "pd.read_sql_query(query, conn).to_dict()"
   ]
  }
 ],
 "metadata": {
  "kernelspec": {
   "display_name": ".venv",
   "language": "python",
   "name": "python3"
  },
  "language_info": {
   "codemirror_mode": {
    "name": "ipython",
    "version": 3
   },
   "file_extension": ".py",
   "mimetype": "text/x-python",
   "name": "python",
   "nbconvert_exporter": "python",
   "pygments_lexer": "ipython3",
   "version": "3.12.2"
  }
 },
 "nbformat": 4,
 "nbformat_minor": 2
}
